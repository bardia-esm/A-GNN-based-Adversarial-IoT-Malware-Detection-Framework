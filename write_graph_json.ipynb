{
 "cells": [
  {
   "cell_type": "code",
   "execution_count": 1,
   "metadata": {},
   "outputs": [],
   "source": [
    "import os\n",
    "import angr\n",
    "from glob import glob\n",
    "import re\n",
    "import json\n",
    "import pickle\n",
    "import logging\n",
    "import networkx as nx\n",
    "from time import time"
   ]
  },
  {
   "cell_type": "code",
   "execution_count": 41,
   "metadata": {},
   "outputs": [
    {
     "data": {
      "text/plain": [
       "39912"
      ]
     },
     "execution_count": 41,
     "metadata": {},
     "output_type": "execute_result"
    }
   ],
   "source": [
    "from time import time\n",
    "logging.disable(logging.CRITICAL)\n",
    "\n",
    "# The address of file goes here.\n",
    "file_add = ''\n",
    "\n",
    "# The graph label goes here.\n",
    "graph_label = ''\n",
    "\n",
    "# The directory for saving the graph json data goes here.\n",
    "save_dir_addr = ''\n",
    "\n",
    "file_name = file_add.split('/')[-1]\n",
    "\n",
    "try:\n",
    "    s_time = time()\n",
    "    # read the executable by angr and extract the CFG into the G variable.\n",
    "    p = angr.Project(file_add, load_options = {'auto_load_libs': False})\n",
    "    cfg = p.analyses.CFGFast(force_complete_scan = False, normalize = True)\n",
    "    main_func = cfg.kb.functions['main']\n",
    "    G = main_func.transition_graph\n",
    "    \n",
    "    # Check if G has multiple diconnected components.\n",
    "    num_components = nx.number_weakly_connected_components(G)\n",
    "    if num_components != 1:\n",
    "        raise Exception('f{file_add} Number of Components is larger than one - {num_components}')\n",
    "\n",
    "\n",
    "    edge_list = []\n",
    "    node_dict = {}\n",
    "\n",
    "    # Go over each edge and for the nodes involved extract the name and insturctions.\n",
    "    for edge_nodes in G.edges:\n",
    "        for src_dst_flag, node in enumerate(edge_nodes):\n",
    "            node_info = cfg.get_any_node(node.addr)\n",
    "            if node_info and node.addr not in node_dict.keys(): \n",
    "                node_dict[node.addr] = {'node_name': None, 'node_label': re.search(r\"\\[(.*?)\\]\", str(node_info)).group(1), 'insns': None}\n",
    "                # print(str(node_info))\n",
    "\n",
    "                if node_info.name:\n",
    "                    node_dict[node.addr]['node_name'] = node_info.name\n",
    "\n",
    "                if node_info.block:\n",
    "                    insn_list = []\n",
    "                    for insn_obj, insn_str in zip(node_info.block.disassembly.insns, str(node_info.block.disassembly).split('\\n')):\n",
    "                        insn_list.append((insn_obj.insn.address, insn_obj.insn.mnemonic, insn_str.split('\\t')[-1]))\n",
    "\n",
    "                    node_dict[node.addr]['insns'] = insn_list\n",
    "\n",
    "        edge_list.append((edge_nodes[0].addr, edge_nodes[1].addr))\n",
    "    \n",
    "    # save the information for G in graph_data dictionariy.\n",
    "    graph_data = {'node_dict': node_dict, 'edge_list': edge_list, 'label': graph_label}\n",
    "\n",
    "    # Find and save the start node in graph_data dictionary.\n",
    "    if main_func.startpoint:\n",
    "        startpoint = main_func.startpoint.addr\n",
    "        if startpoint != main_func.addr or main_func.addr not in graph_data['node_dict'].keys():\n",
    "            raise Exception(f'For {file_add}, starting point ({startpoint}) is not equal to the address of the main function ({main_func.addr}).')\n",
    "    else:\n",
    "        startpoint = main_func.startpoint\n",
    "    graph_data['startpoint'] = startpoint\n",
    "\n",
    "    # Find and save the end node in graph_data dictionary.\n",
    "    if main_func.endpoints:\n",
    "        endpoints = [i.addr for i in main_func.endpoints]\n",
    "        for endpoint in endpoints:\n",
    "            if endpoint not in graph_data['node_dict'].keys():\n",
    "                raise Exception(f'{file_add} Ending node does not exist in the graph')\n",
    "    else:\n",
    "        endpoints = main_func.endpoints\n",
    "    graph_data['endpoints'] = endpoints\n",
    "\n",
    "    # Save graph_data.\n",
    "    with open(os.path.join(save_dir_addr, file_name + '.json'), 'w') as fp:\n",
    "        json.dump(graph_data, fp)\n",
    "\n",
    "except Exception as e:\n",
    "    print(e)\n",
    "        \n",
    "logging.disable(logging.NOTSET)"
   ]
  }
 ],
 "metadata": {
  "kernelspec": {
   "display_name": "Python 3.8.5 ('base')",
   "language": "python",
   "name": "python3"
  },
  "language_info": {
   "codemirror_mode": {
    "name": "ipython",
    "version": 3
   },
   "file_extension": ".py",
   "mimetype": "text/x-python",
   "name": "python",
   "nbconvert_exporter": "python",
   "pygments_lexer": "ipython3",
   "version": "3.8.5"
  },
  "orig_nbformat": 4,
  "vscode": {
   "interpreter": {
    "hash": "ad92fcab2cecfd1452caf9b8b591b5b70cfdaabc1ed1d26d9bd94dad7923c4cc"
   }
  }
 },
 "nbformat": 4,
 "nbformat_minor": 2
}
